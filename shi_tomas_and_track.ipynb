{
 "cells": [
  {
   "cell_type": "raw",
   "source": [],
   "metadata": {
    "collapsed": false
   },
   "id": "c8041f42e2a8c9d0"
  },
  {
   "cell_type": "code",
   "execution_count": 11,
   "source": [
    "import cv2\n",
    "import cv2.legacy\n",
    "import sys\n",
    "import numpy as np\n",
    "import matplotlib.pyplot as plt\n",
    "%matplotlib inline\n",
    "import matplotlib"
   ],
   "metadata": {
    "collapsed": false,
    "ExecuteTime": {
     "end_time": "2024-01-20T02:12:01.570825900Z",
     "start_time": "2024-01-20T02:12:01.557466300Z"
    }
   },
   "id": "810865d08dac61b0",
   "outputs": []
  },
  {
   "cell_type": "code",
   "execution_count": 12,
   "source": [
    "#Input demo video name.\n",
    "video_fileName = 'demo.mp4'\n",
    "### Initialize and select tracking algorithm\n",
    "(major_ver, minor_ver, subminor_ver) = cv2.__version__.split('.')\n",
    "\n",
    "# 定义全局变量\n",
    "selected_points = []  # 存储用户框选的角点\n",
    "tracking_points = []  # 存储正在追踪的角点\n",
    "\n",
    "\n",
    "#选择跟踪器-取决于类型的应用程序和类型的运动跟踪(高频，大振幅，等等…)\n",
    "tracker_types = ['BOOSTING', 'MIL', 'KCF', 'TLD', 'MEDIANFLOW', 'GOTURN', 'MOSSE', 'CSRT']\n",
    "tracker_type = tracker_types[1]\n",
    "\n",
    "if tracker_type == 'BOOSTING':\n",
    "    tracker = cv2.TrackerBoosting_create()\n",
    "if tracker_type == 'MIL':\n",
    "    tracker = cv2.TrackerMIL_create()\n",
    "if tracker_type == 'KCF':\n",
    "    tracker = cv2.TrackerKCF_create()\n",
    "if tracker_type == 'TLD':\n",
    "    tracker = cv2.TrackerTLD_create()\n",
    "if tracker_type == 'MEDIANFLOW':\n",
    "    tracker = cv2.legacy.TrackerMedianFlow_create()\n",
    "if tracker_type == 'GOTURN':\n",
    "    tracker = cv2.TrackerGOTURN_create()\n",
    "if tracker_type == 'MOSSE':\n",
    "    tracker = cv2.TrackerMOSSE_create()\n",
    "if tracker_type == \"CSRT\":\n",
    "    tracker = cv2.TrackerCSRT_create()"
   ],
   "metadata": {
    "collapsed": false,
    "ExecuteTime": {
     "end_time": "2024-01-20T02:12:01.605561900Z",
     "start_time": "2024-01-20T02:12:01.570825900Z"
    }
   },
   "id": "9a7107e8a1cd16d2",
   "outputs": []
  },
  {
   "cell_type": "code",
   "execution_count": 13,
   "source": [
    "# 定义全局变量\n",
    "selected_points = []  # 存储用户框选的角点\n",
    "tracking_points = []  # 存储正在追踪的角点"
   ],
   "metadata": {
    "collapsed": false,
    "ExecuteTime": {
     "end_time": "2024-01-20T02:12:01.617467900Z",
     "start_time": "2024-01-20T02:12:01.604075300Z"
    }
   },
   "id": "64667d460bf9dea2",
   "outputs": []
  },
  {
   "cell_type": "code",
   "execution_count": 14,
   "id": "initial_id",
   "metadata": {
    "collapsed": true,
    "ExecuteTime": {
     "end_time": "2024-01-20T02:12:01.651700800Z",
     "start_time": "2024-01-20T02:12:01.621434800Z"
    }
   },
   "source": [
    "# 框选感兴趣区域\n",
    "def select_roi(event,x,y,flags,param):\n",
    "    global roi_pts,selecting_roi,frame,frame_copy\n",
    "\n",
    "    if event == cv2.EVENT_LBUTTONDOWN:\n",
    "        roi_pts = [(x,y)]\n",
    "        selecting_roi = True\n",
    "    elif event == cv2.EVENT_MOUSEMOVE and selecting_roi:\n",
    "        frame_copy = frame.copy()\n",
    "        cv2.rectangle(frame_copy,roi_pts[0],(x,y),(0,255),2)\n",
    "        cv2.imshow(\"Select ROI\",frame_copy)\n",
    "    elif event == cv2.EVENT_LBUTTONUP:\n",
    "        roi_pts.append((x,y))\n",
    "        selecting_roi = False\n",
    "        cv2.rectangle(frame_copy,roi_pts[0],roi_pts[1],(0,255,0),2)\n",
    "        cv2.imshow(\"Select ROI\", frame_copy)\n"
   ],
   "outputs": []
  },
  {
   "cell_type": "code",
   "execution_count": 15,
   "source": [
    "# 角点检测并绘制在视频上\n",
    "def detect_and_draw_corners(frame,roi_pts):\n",
    "    gray = cv2.cvtColor(frame,cv2.COLOR_BGR2GRAY)\n",
    "    selected_roi = frame[roi_pts[0][1]:roi_pts[1][1],roi_pts[0][0]:roi_pts[1][0]]\n",
    "    gray_roi = cv2.cvtColor(selected_roi,cv2.COLOR_BGR2GRAY)\n",
    "\n",
    "    # 检测角点\n",
    "    corners = cv2.goodFeaturesToTrack(gray_roi, 100, 0.01, 10)\n",
    "    corners = np.int0(corners)\n",
    "\n",
    "    for corner in corners:\n",
    "        x, y = corner.ravel()\n",
    "        x += roi_pts[0][0]\n",
    "        y += roi_pts[0][1]\n",
    "        cv2.circle(frame, (x, y), 3, (255, 0, 0), -1)\n",
    "\n",
    "    # 添加检测的角点到列表中\n",
    "    selected_points.append((x,y))\n",
    "\n",
    "    return frame"
   ],
   "metadata": {
    "collapsed": false,
    "ExecuteTime": {
     "end_time": "2024-01-20T02:12:01.673357400Z",
     "start_time": "2024-01-20T02:12:01.654181700Z"
    }
   },
   "id": "2359c04db69f2d02",
   "outputs": []
  },
  {
   "cell_type": "code",
   "execution_count": 15,
   "source": [],
   "metadata": {
    "collapsed": false,
    "ExecuteTime": {
     "end_time": "2024-01-20T02:12:01.690559400Z",
     "start_time": "2024-01-20T02:12:01.675839200Z"
    }
   },
   "id": "4eefb2a3303056f0",
   "outputs": []
  }
 ],
 "metadata": {
  "kernelspec": {
   "display_name": "Python 3",
   "language": "python",
   "name": "python3"
  },
  "language_info": {
   "codemirror_mode": {
    "name": "ipython",
    "version": 2
   },
   "file_extension": ".py",
   "mimetype": "text/x-python",
   "name": "python",
   "nbconvert_exporter": "python",
   "pygments_lexer": "ipython2",
   "version": "2.7.6"
  }
 },
 "nbformat": 4,
 "nbformat_minor": 5
}
